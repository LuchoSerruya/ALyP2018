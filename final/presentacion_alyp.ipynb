{
 "cells": [
  {
   "cell_type": "markdown",
   "metadata": {
    "slideshow": {
     "slide_type": "slide"
    }
   },
   "source": [
    "# Blockchain\n",
    "## Una alternativa descentralizada para firma digital\n",
    "\n",
    "### Cátedra\n",
    "\n",
    "- Dr. Guillermo Cosentino\n",
    "- Lic. Bruno Zapellini\n",
    "\n",
    "#### Integrantes\n",
    "\n",
    "- Luciano Serruya Aloisi"
   ]
  },
  {
   "cell_type": "markdown",
   "metadata": {
    "slideshow": {
     "slide_type": "slide"
    }
   },
   "source": [
    "# Introducción"
   ]
  },
  {
   "cell_type": "markdown",
   "metadata": {
    "slideshow": {
     "slide_type": "fragment"
    }
   },
   "source": [
    "- Criptografía\n",
    "    - Simétrica\n",
    "    - Asimétrica"
   ]
  },
  {
   "cell_type": "markdown",
   "metadata": {
    "slideshow": {
     "slide_type": "fragment"
    }
   },
   "source": [
    "- Funciones de *hash*"
   ]
  },
  {
   "cell_type": "code",
   "execution_count": 6,
   "metadata": {
    "slideshow": {
     "slide_type": "fragment"
    }
   },
   "outputs": [
    {
     "name": "stdout",
     "output_type": "stream",
     "text": [
      "505750eee95385a67937412a22566c362f86fc292537642845f1aa09496cbc76\n"
     ]
    }
   ],
   "source": [
    "from hashlib import sha256\n",
    "# Una función de hash toma una entrada de largo variable \n",
    "# y la convierte en una cadena de largo fijo\n",
    "h = sha256(\"Aspectos Legales y Profesionales\".encode()).hexdigest()\n",
    "print(h)"
   ]
  },
  {
   "cell_type": "markdown",
   "metadata": {
    "slideshow": {
     "slide_type": "slide"
    }
   },
   "source": [
    "# Firma digital"
   ]
  },
  {
   "cell_type": "markdown",
   "metadata": {
    "slideshow": {
     "slide_type": "fragment"
    }
   },
   "source": [
    "![Firma digital](./images/digital_signature.png)\n",
    "https://www.docusign.com/how-it-works/electronic-signature/digital-signature/digital-signature-faq"
   ]
  },
  {
   "cell_type": "markdown",
   "metadata": {
    "slideshow": {
     "slide_type": "slide"
    }
   },
   "source": [
    "## Firma digital en Argentina"
   ]
  },
  {
   "cell_type": "markdown",
   "metadata": {
    "slideshow": {
     "slide_type": "fragment"
    }
   },
   "source": [
    "- Ley 25506 - sancionada en Noviembre del 2001"
   ]
  },
  {
   "cell_type": "markdown",
   "metadata": {
    "slideshow": {
     "slide_type": "fragment"
    }
   },
   "source": [
    ">  Se entiende por firma digital al resultado de aplicar a un documento digital un procedimiento matemático que requiere información de exclusivo conocimiento del firmante, encontrándose ésta bajo su absoluto control. La firma digital debe ser susceptible de verificación por terceras partes, tal que dicha verificación simultáneamente permita identificar al firmante y detectar cualquier alteración del documento digital posterior a su firma."
   ]
  },
  {
   "cell_type": "markdown",
   "metadata": {
    "slideshow": {
     "slide_type": "slide"
    }
   },
   "source": [
    "## Firma digital en Argentina"
   ]
  },
  {
   "cell_type": "markdown",
   "metadata": {
    "slideshow": {
     "slide_type": "fragment"
    }
   },
   "source": [
    "- Tiene la misma validez que la firma manuscrita (aunque no es aplicable a ciertas situaciones)"
   ]
  },
  {
   "cell_type": "markdown",
   "metadata": {
    "slideshow": {
     "slide_type": "fragment"
    }
   },
   "source": [
    "- *Firma digital* $\\neq$ *Firma electrónica*"
   ]
  },
  {
   "cell_type": "markdown",
   "metadata": {
    "slideshow": {
     "slide_type": "fragment"
    }
   },
   "source": [
    "> Se entiende por firma electrónica al conjunto de datos electrónicos integrados, ligados o asociados de manera lógica a otros datos electrónicos, utilizado por el signatario como su medio de identificación, que carezca de alguno de los requisitos legales para ser considerada firma digital. En caso de ser desconocida la firma electrónica corresponde a quien la invoca acreditar su validez."
   ]
  },
  {
   "cell_type": "markdown",
   "metadata": {
    "slideshow": {
     "slide_type": "slide"
    }
   },
   "source": [
    "# PKI"
   ]
  },
  {
   "cell_type": "markdown",
   "metadata": {
    "slideshow": {
     "slide_type": "fragment"
    }
   },
   "source": [
    "- Entidad Final\n",
    "- Autoridad de Certificación\n",
    "- Autoridad de Registro\n",
    "- Autoridad raíz\n",
    "- Certificado X.509\n",
    "- Repositorio\n",
    "- Lista de Revocación de Certificados"
   ]
  },
  {
   "cell_type": "markdown",
   "metadata": {},
   "source": [
    "![PKI](./images/pki_chain_validation.png)\n",
    "https://www.youtube.com/watch?v=lLw0dICMA_Y&t=0s&list=LLwYViWd8mZ--7R8uzRdJcAA&index=18"
   ]
  },
  {
   "cell_type": "markdown",
   "metadata": {
    "slideshow": {
     "slide_type": "slide"
    }
   },
   "source": [
    "# Blockchain"
   ]
  },
  {
   "cell_type": "markdown",
   "metadata": {
    "slideshow": {
     "slide_type": "fragment"
    }
   },
   "source": [
    "- Lista enlazada de bloques que contienen información (*transacciones* en Bitcoin)\n",
    "- Red descentralizada sin un esquema de confianza\n",
    "- Base de datos distribuida en la que todos los nodos tienen una copia entera"
   ]
  },
  {
   "cell_type": "markdown",
   "metadata": {
    "slideshow": {
     "slide_type": "slide"
    }
   },
   "source": [
    "![Bloques de blockchain](./images/blockchain_blocks.png)\n",
    "https://medium.com/@lhartikk/a-blockchain-in-200-lines-of-code-963cc1cc0e54"
   ]
  },
  {
   "cell_type": "markdown",
   "metadata": {
    "slideshow": {
     "slide_type": "slide"
    }
   },
   "source": [
    "# Minería"
   ]
  },
  {
   "cell_type": "markdown",
   "metadata": {
    "slideshow": {
     "slide_type": "fragment"
    }
   },
   "source": [
    "- La minería de bloques consiste en **calcular el hash del próximo bloque**\n",
    "- Se calcula el hash de todas las transacciones que contiene el bloque, sumado el hash del bloque anterior"
   ]
  },
  {
   "cell_type": "markdown",
   "metadata": {
    "slideshow": {
     "slide_type": "fragment"
    }
   },
   "source": [
    "- El hash resultante debe **comenzar** una *n* cantidad de 0s / El hash resultante debe ser menor a un _target_ \n",
    "- *n* $\\rightarrow$ dificultad de la red"
   ]
  },
  {
   "cell_type": "markdown",
   "metadata": {
    "slideshow": {
     "slide_type": "fragment"
    }
   },
   "source": [
    "- El minero que calcula el *hash* correcto, **se lleva una recompensa**"
   ]
  },
  {
   "cell_type": "markdown",
   "metadata": {
    "slideshow": {
     "slide_type": "slide"
    }
   },
   "source": [
    "# PKI sobre blockchain"
   ]
  },
  {
   "cell_type": "markdown",
   "metadata": {
    "slideshow": {
     "slide_type": "fragment"
    }
   },
   "source": [
    "- Se basa en *smart contracts* y corre sobre *Ethereum*\n",
    "- Cada CA es un *smart contract* distinto"
   ]
  },
  {
   "cell_type": "markdown",
   "metadata": {
    "slideshow": {
     "slide_type": "fragment"
    }
   },
   "source": [
    "- Permite la revocación de certificados\n",
    "- Cada CA lleva registro de sus certificados emitidos y de sus certificados revocados "
   ]
  },
  {
   "cell_type": "markdown",
   "metadata": {
    "slideshow": {
     "slide_type": "slide"
    }
   },
   "source": [
    "# PKI sobre blockchain"
   ]
  },
  {
   "cell_type": "markdown",
   "metadata": {
    "slideshow": {
     "slide_type": "fragment"
    }
   },
   "source": [
    "- Cada nodo tiene una copia de la base de datos (de la blockchain), por lo tanto verificar un certificado es una operación sencilla\n",
    "- Verificar un certificado no modifica la blockchain"
   ]
  },
  {
   "cell_type": "markdown",
   "metadata": {
    "slideshow": {
     "slide_type": "fragment"
    }
   },
   "source": [
    "- La creación de una nueva CA, o la emisión/revocación de un certificado sí modifica la blockchain\n",
    "- En *Ethereum*, crear un *smart contract* o ejecutar uno tiene un precio en *gas*\n",
    "- El *gas* se paga en *Ether* (criptomoneda de la blockchain *Ethereum*)"
   ]
  },
  {
   "cell_type": "markdown",
   "metadata": {
    "slideshow": {
     "slide_type": "slide"
    }
   },
   "source": [
    "# ¿Preguntas?"
   ]
  },
  {
   "cell_type": "markdown",
   "metadata": {
    "slideshow": {
     "slide_type": "-"
    }
   },
   "source": [
    "# Gracias!"
   ]
  }
 ],
 "metadata": {
  "celltoolbar": "Slideshow",
  "kernelspec": {
   "display_name": "Python 3",
   "language": "python",
   "name": "python3"
  },
  "language_info": {
   "codemirror_mode": {
    "name": "ipython",
    "version": 3
   },
   "file_extension": ".py",
   "mimetype": "text/x-python",
   "name": "python",
   "nbconvert_exporter": "python",
   "pygments_lexer": "ipython3",
   "version": "3.7.0"
  }
 },
 "nbformat": 4,
 "nbformat_minor": 2
}
